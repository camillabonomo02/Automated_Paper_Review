{
 "cells": [
  {
   "cell_type": "markdown",
   "id": "a106fb84",
   "metadata": {},
   "source": [
    "# Fine-Tuning a Small LLM with LoRA for Automated Paper Review Insights (code)"
   ]
  },
  {
   "cell_type": "markdown",
   "id": "179e9fe8",
   "metadata": {},
   "source": [
    "This notebook demonstrates how to fine-tune a small language model (LLM) using LoRA for automated paper review analysis. It covers data preparation, model training, prediction generation, and evaluation of review quality and scoring."
   ]
  },
  {
   "cell_type": "code",
   "execution_count": 2,
   "id": "42f97212",
   "metadata": {},
   "outputs": [
    {
     "name": "stdout",
     "output_type": "stream",
     "text": [
      "/home/disi/Automated_Paper_Review\n"
     ]
    }
   ],
   "source": [
    "cd Automated_Paper_Review"
   ]
  },
  {
   "cell_type": "code",
   "execution_count": null,
   "id": "27cdf0a5",
   "metadata": {},
   "outputs": [
    {
     "name": "stdout",
     "output_type": "stream",
     "text": [
      "Requirement already satisfied: transformers<5.0.0,>=4.41.0 in /home/disi/miniconda3/lib/python3.12/site-packages (from -r requirements.txt (line 1)) (4.57.0)\n",
      "Requirement already satisfied: datasets<3.0.0,>=2.15.0 in /home/disi/miniconda3/lib/python3.12/site-packages (from -r requirements.txt (line 2)) (2.15.0)\n",
      "Requirement already satisfied: huggingface-hub<1.0.0,>=0.18.0 in /home/disi/miniconda3/lib/python3.12/site-packages (from -r requirements.txt (line 3)) (0.35.3)\n",
      "Requirement already satisfied: peft>=0.8.0 in /home/disi/miniconda3/lib/python3.12/site-packages (from -r requirements.txt (line 4)) (0.16.0)\n",
      "Requirement already satisfied: scikit-learn>=1.2.0 in /home/disi/miniconda3/lib/python3.12/site-packages (from -r requirements.txt (line 5)) (1.6.1)\n",
      "Requirement already satisfied: torch>=2.0.0 in /home/disi/miniconda3/lib/python3.12/site-packages (from -r requirements.txt (line 6)) (2.2.2)\n",
      "Requirement already satisfied: tqdm in /home/disi/miniconda3/lib/python3.12/site-packages (from -r requirements.txt (line 7)) (4.67.1)\n",
      "Requirement already satisfied: bert-score in /home/disi/miniconda3/lib/python3.12/site-packages (from -r requirements.txt (line 8)) (0.3.13)\n",
      "Requirement already satisfied: pandas in /home/disi/miniconda3/lib/python3.12/site-packages (from -r requirements.txt (line 9)) (2.3.1)\n",
      "Requirement already satisfied: scipy in /home/disi/miniconda3/lib/python3.12/site-packages (from -r requirements.txt (line 10)) (1.15.3)\n",
      "Requirement already satisfied: openpyxl in /home/disi/miniconda3/lib/python3.12/site-packages (from -r requirements.txt (line 11)) (3.1.5)\n",
      "Requirement already satisfied: matplotlib in /home/disi/miniconda3/lib/python3.12/site-packages (from -r requirements.txt (line 12)) (3.10.3)\n",
      "Requirement already satisfied: numpy in /home/disi/miniconda3/lib/python3.12/site-packages (from -r requirements.txt (line 13)) (1.26.4)\n",
      "Requirement already satisfied: filelock in /home/disi/miniconda3/lib/python3.12/site-packages (from transformers<5.0.0,>=4.41.0->-r requirements.txt (line 1)) (3.18.0)\n",
      "Requirement already satisfied: packaging>=20.0 in /home/disi/miniconda3/lib/python3.12/site-packages (from transformers<5.0.0,>=4.41.0->-r requirements.txt (line 1)) (24.2)\n",
      "Requirement already satisfied: pyyaml>=5.1 in /home/disi/miniconda3/lib/python3.12/site-packages (from transformers<5.0.0,>=4.41.0->-r requirements.txt (line 1)) (6.0.2)\n",
      "Requirement already satisfied: regex!=2019.12.17 in /home/disi/miniconda3/lib/python3.12/site-packages (from transformers<5.0.0,>=4.41.0->-r requirements.txt (line 1)) (2024.11.6)\n",
      "Requirement already satisfied: requests in /home/disi/miniconda3/lib/python3.12/site-packages (from transformers<5.0.0,>=4.41.0->-r requirements.txt (line 1)) (2.32.3)\n",
      "Requirement already satisfied: tokenizers<=0.23.0,>=0.22.0 in /home/disi/miniconda3/lib/python3.12/site-packages (from transformers<5.0.0,>=4.41.0->-r requirements.txt (line 1)) (0.22.1)\n",
      "Requirement already satisfied: safetensors>=0.4.3 in /home/disi/miniconda3/lib/python3.12/site-packages (from transformers<5.0.0,>=4.41.0->-r requirements.txt (line 1)) (0.5.3)\n",
      "Requirement already satisfied: pyarrow>=8.0.0 in /home/disi/miniconda3/lib/python3.12/site-packages (from datasets<3.0.0,>=2.15.0->-r requirements.txt (line 2)) (20.0.0)\n",
      "Requirement already satisfied: pyarrow-hotfix in /home/disi/miniconda3/lib/python3.12/site-packages (from datasets<3.0.0,>=2.15.0->-r requirements.txt (line 2)) (0.7)\n",
      "Requirement already satisfied: dill<0.3.8,>=0.3.0 in /home/disi/miniconda3/lib/python3.12/site-packages (from datasets<3.0.0,>=2.15.0->-r requirements.txt (line 2)) (0.3.7)\n",
      "Requirement already satisfied: xxhash in /home/disi/miniconda3/lib/python3.12/site-packages (from datasets<3.0.0,>=2.15.0->-r requirements.txt (line 2)) (3.5.0)\n",
      "Requirement already satisfied: multiprocess in /home/disi/miniconda3/lib/python3.12/site-packages (from datasets<3.0.0,>=2.15.0->-r requirements.txt (line 2)) (0.70.15)\n",
      "Requirement already satisfied: fsspec<=2023.10.0,>=2023.1.0 in /home/disi/miniconda3/lib/python3.12/site-packages (from fsspec[http]<=2023.10.0,>=2023.1.0->datasets<3.0.0,>=2.15.0->-r requirements.txt (line 2)) (2023.10.0)\n",
      "Requirement already satisfied: aiohttp in /home/disi/miniconda3/lib/python3.12/site-packages (from datasets<3.0.0,>=2.15.0->-r requirements.txt (line 2)) (3.12.14)\n",
      "Requirement already satisfied: typing-extensions>=3.7.4.3 in /home/disi/miniconda3/lib/python3.12/site-packages (from huggingface-hub<1.0.0,>=0.18.0->-r requirements.txt (line 3)) (4.12.2)\n",
      "Requirement already satisfied: hf-xet<2.0.0,>=1.1.3 in /home/disi/miniconda3/lib/python3.12/site-packages (from huggingface-hub<1.0.0,>=0.18.0->-r requirements.txt (line 3)) (1.1.10)\n",
      "Requirement already satisfied: psutil in /home/disi/miniconda3/lib/python3.12/site-packages (from peft>=0.8.0->-r requirements.txt (line 4)) (7.0.0)\n",
      "Requirement already satisfied: accelerate>=0.21.0 in /home/disi/miniconda3/lib/python3.12/site-packages (from peft>=0.8.0->-r requirements.txt (line 4)) (1.9.0)\n",
      "Requirement already satisfied: joblib>=1.2.0 in /home/disi/miniconda3/lib/python3.12/site-packages (from scikit-learn>=1.2.0->-r requirements.txt (line 5)) (1.5.0)\n",
      "Requirement already satisfied: threadpoolctl>=3.1.0 in /home/disi/miniconda3/lib/python3.12/site-packages (from scikit-learn>=1.2.0->-r requirements.txt (line 5)) (3.6.0)\n",
      "Requirement already satisfied: sympy in /home/disi/miniconda3/lib/python3.12/site-packages (from torch>=2.0.0->-r requirements.txt (line 6)) (1.14.0)\n",
      "Requirement already satisfied: networkx in /home/disi/miniconda3/lib/python3.12/site-packages (from torch>=2.0.0->-r requirements.txt (line 6)) (3.4.2)\n",
      "Requirement already satisfied: jinja2 in /home/disi/miniconda3/lib/python3.12/site-packages (from torch>=2.0.0->-r requirements.txt (line 6)) (3.1.6)\n",
      "Requirement already satisfied: nvidia-cuda-nvrtc-cu12==12.1.105 in /home/disi/miniconda3/lib/python3.12/site-packages (from torch>=2.0.0->-r requirements.txt (line 6)) (12.1.105)\n",
      "Requirement already satisfied: nvidia-cuda-runtime-cu12==12.1.105 in /home/disi/miniconda3/lib/python3.12/site-packages (from torch>=2.0.0->-r requirements.txt (line 6)) (12.1.105)\n",
      "Requirement already satisfied: nvidia-cuda-cupti-cu12==12.1.105 in /home/disi/miniconda3/lib/python3.12/site-packages (from torch>=2.0.0->-r requirements.txt (line 6)) (12.1.105)\n",
      "Requirement already satisfied: nvidia-cudnn-cu12==8.9.2.26 in /home/disi/miniconda3/lib/python3.12/site-packages (from torch>=2.0.0->-r requirements.txt (line 6)) (8.9.2.26)\n",
      "Requirement already satisfied: nvidia-cublas-cu12==12.1.3.1 in /home/disi/miniconda3/lib/python3.12/site-packages (from torch>=2.0.0->-r requirements.txt (line 6)) (12.1.3.1)\n",
      "Requirement already satisfied: nvidia-cufft-cu12==11.0.2.54 in /home/disi/miniconda3/lib/python3.12/site-packages (from torch>=2.0.0->-r requirements.txt (line 6)) (11.0.2.54)\n",
      "Requirement already satisfied: nvidia-curand-cu12==10.3.2.106 in /home/disi/miniconda3/lib/python3.12/site-packages (from torch>=2.0.0->-r requirements.txt (line 6)) (10.3.2.106)\n",
      "Requirement already satisfied: nvidia-cusolver-cu12==11.4.5.107 in /home/disi/miniconda3/lib/python3.12/site-packages (from torch>=2.0.0->-r requirements.txt (line 6)) (11.4.5.107)\n",
      "Requirement already satisfied: nvidia-cusparse-cu12==12.1.0.106 in /home/disi/miniconda3/lib/python3.12/site-packages (from torch>=2.0.0->-r requirements.txt (line 6)) (12.1.0.106)\n",
      "Requirement already satisfied: nvidia-nccl-cu12==2.19.3 in /home/disi/miniconda3/lib/python3.12/site-packages (from torch>=2.0.0->-r requirements.txt (line 6)) (2.19.3)\n",
      "Requirement already satisfied: nvidia-nvtx-cu12==12.1.105 in /home/disi/miniconda3/lib/python3.12/site-packages (from torch>=2.0.0->-r requirements.txt (line 6)) (12.1.105)\n",
      "Requirement already satisfied: nvidia-nvjitlink-cu12 in /home/disi/miniconda3/lib/python3.12/site-packages (from nvidia-cusolver-cu12==11.4.5.107->torch>=2.0.0->-r requirements.txt (line 6)) (12.6.85)\n",
      "Requirement already satisfied: python-dateutil>=2.8.2 in /home/disi/miniconda3/lib/python3.12/site-packages (from pandas->-r requirements.txt (line 9)) (2.9.0.post0)\n",
      "Requirement already satisfied: pytz>=2020.1 in /home/disi/miniconda3/lib/python3.12/site-packages (from pandas->-r requirements.txt (line 9)) (2025.2)\n",
      "Requirement already satisfied: tzdata>=2022.7 in /home/disi/miniconda3/lib/python3.12/site-packages (from pandas->-r requirements.txt (line 9)) (2025.2)\n",
      "Requirement already satisfied: et-xmlfile in /home/disi/miniconda3/lib/python3.12/site-packages (from openpyxl->-r requirements.txt (line 11)) (2.0.0)\n",
      "Requirement already satisfied: contourpy>=1.0.1 in /home/disi/miniconda3/lib/python3.12/site-packages (from matplotlib->-r requirements.txt (line 12)) (1.3.2)\n",
      "Requirement already satisfied: cycler>=0.10 in /home/disi/miniconda3/lib/python3.12/site-packages (from matplotlib->-r requirements.txt (line 12)) (0.12.1)\n",
      "Requirement already satisfied: fonttools>=4.22.0 in /home/disi/miniconda3/lib/python3.12/site-packages (from matplotlib->-r requirements.txt (line 12)) (4.58.5)\n",
      "Requirement already satisfied: kiwisolver>=1.3.1 in /home/disi/miniconda3/lib/python3.12/site-packages (from matplotlib->-r requirements.txt (line 12)) (1.4.8)\n",
      "Requirement already satisfied: pillow>=8 in /home/disi/miniconda3/lib/python3.12/site-packages (from matplotlib->-r requirements.txt (line 12)) (10.2.0)\n",
      "Requirement already satisfied: pyparsing>=2.3.1 in /home/disi/miniconda3/lib/python3.12/site-packages (from matplotlib->-r requirements.txt (line 12)) (3.2.3)\n",
      "Requirement already satisfied: aiohappyeyeballs>=2.5.0 in /home/disi/miniconda3/lib/python3.12/site-packages (from aiohttp->datasets<3.0.0,>=2.15.0->-r requirements.txt (line 2)) (2.6.1)\n",
      "Requirement already satisfied: aiosignal>=1.4.0 in /home/disi/miniconda3/lib/python3.12/site-packages (from aiohttp->datasets<3.0.0,>=2.15.0->-r requirements.txt (line 2)) (1.4.0)\n",
      "Requirement already satisfied: attrs>=17.3.0 in /home/disi/miniconda3/lib/python3.12/site-packages (from aiohttp->datasets<3.0.0,>=2.15.0->-r requirements.txt (line 2)) (25.3.0)\n",
      "Requirement already satisfied: frozenlist>=1.1.1 in /home/disi/miniconda3/lib/python3.12/site-packages (from aiohttp->datasets<3.0.0,>=2.15.0->-r requirements.txt (line 2)) (1.7.0)\n",
      "Requirement already satisfied: multidict<7.0,>=4.5 in /home/disi/miniconda3/lib/python3.12/site-packages (from aiohttp->datasets<3.0.0,>=2.15.0->-r requirements.txt (line 2)) (6.6.3)\n",
      "Requirement already satisfied: propcache>=0.2.0 in /home/disi/miniconda3/lib/python3.12/site-packages (from aiohttp->datasets<3.0.0,>=2.15.0->-r requirements.txt (line 2)) (0.3.2)\n",
      "Requirement already satisfied: yarl<2.0,>=1.17.0 in /home/disi/miniconda3/lib/python3.12/site-packages (from aiohttp->datasets<3.0.0,>=2.15.0->-r requirements.txt (line 2)) (1.20.1)\n",
      "Requirement already satisfied: idna>=2.0 in /home/disi/miniconda3/lib/python3.12/site-packages (from yarl<2.0,>=1.17.0->aiohttp->datasets<3.0.0,>=2.15.0->-r requirements.txt (line 2)) (3.7)\n",
      "Requirement already satisfied: six>=1.5 in /home/disi/miniconda3/lib/python3.12/site-packages (from python-dateutil>=2.8.2->pandas->-r requirements.txt (line 9)) (1.17.0)\n",
      "Requirement already satisfied: charset-normalizer<4,>=2 in /home/disi/miniconda3/lib/python3.12/site-packages (from requests->transformers<5.0.0,>=4.41.0->-r requirements.txt (line 1)) (3.3.2)\n",
      "Requirement already satisfied: urllib3<3,>=1.21.1 in /home/disi/miniconda3/lib/python3.12/site-packages (from requests->transformers<5.0.0,>=4.41.0->-r requirements.txt (line 1)) (2.3.0)\n",
      "Requirement already satisfied: certifi>=2017.4.17 in /home/disi/miniconda3/lib/python3.12/site-packages (from requests->transformers<5.0.0,>=4.41.0->-r requirements.txt (line 1)) (2025.7.9)\n",
      "Requirement already satisfied: MarkupSafe>=2.0 in /home/disi/miniconda3/lib/python3.12/site-packages (from jinja2->torch>=2.0.0->-r requirements.txt (line 6)) (3.0.2)\n",
      "Requirement already satisfied: mpmath<1.4,>=1.1.0 in /home/disi/miniconda3/lib/python3.12/site-packages (from sympy->torch>=2.0.0->-r requirements.txt (line 6)) (1.3.0)\n",
      "Note: you may need to restart the kernel to use updated packages.\n"
     ]
    }
   ],
   "source": [
    "\n",
    "# ---------------------- IMPORTS ----------------------\n",
    "%pip install -r requirements.txt\n",
    "import pandas as pd\n",
    "import os\n",
    "import torch\n",
    "import re\n",
    "from transformers import AutoTokenizer, AutoModelForCausalLM, BitsAndBytesConfig, TrainingArguments, Trainer\n",
    "from peft import prepare_model_for_kbit_training, LoraConfig, get_peft_model\n",
    "from sklearn.model_selection import train_test_split\n",
    "from datasets import Dataset\n",
    "from tqdm import tqdm\n",
    "from sklearn.metrics import mean_absolute_error,root_mean_squared_error,r2_score\n",
    "from scipy.stats import pearsonr\n",
    "import matplotlib.pyplot as plt\n",
    "import numpy as np\n",
    "from bert_score import score as bertscore\n",
    "#from huggingface_hub import login\n",
    "#login(\"your_token_here\")  # Uncomment and replace with your token if needed\n"
   ]
  },
  {
   "cell_type": "markdown",
   "id": "5791a14a",
   "metadata": {},
   "source": [
    "### Loading and cleaning data\n",
    "This cell loads and preprocesses the paper review dataset. It reads the Excel file, removes incomplete entries, cleans text fields, merges reviews for duplicate titles, and prepares the data for training and evaluation. Several utility functions are defined for cleaning and extracting relevant information from the dataset."
   ]
  },
  {
   "cell_type": "code",
   "execution_count": 4,
   "id": "f30f1bb7",
   "metadata": {},
   "outputs": [],
   "source": [
    "# ---------------------- LOAD & CLEAN DATA ----------------------\n",
    "\n",
    "df = pd.read_excel(\"./data/tp_2017conference.xlsx\")\n",
    "\n",
    "# Drop rows missing title/abstract/review\n",
    "df = df.dropna(subset=[\"title\", \"abstract\", \"review\"])\n",
    "\n",
    "# Clean abstract field\n",
    "df[\"abstract\"] = df[\"abstract\"].str.replace(\"Abstract:###\", \"\", regex=False).str.strip()\n",
    "\n",
    "# Deduplicate by title (merge reviews)\n",
    "grouped = df.groupby(\"title\").agg({\n",
    "    \"abstract\": \"first\",  # assume same abstract\n",
    "    \"review\": lambda r: \"\\n\\n\".join(r),  # concat reviews\n",
    "    \"rate\": list,\n",
    "    \"confidence\": list,\n",
    "    \"decision\": \"first\"\n",
    "}).reset_index()\n",
    "\n",
    "# CLEANING FUNCTIONS\n",
    "\n",
    "def clean_text(text):\n",
    "    '''Rimuove caratteri non stampabili, tag HTML, codifiche Unicode e spazi extra'''\n",
    "    if not isinstance(text, str):\n",
    "        return \"\"\n",
    "    text = re.sub(r\"[\\x00-\\x1F\\x7F]\", \" \", text)\n",
    "    text = re.sub(r\"<[^>]+>\", \"\", text)\n",
    "    text = re.sub(r\"_x[0-9a-fA-F]{4}_\", \" \", text)\n",
    "    text = re.sub(r\"\\\\s+\", \" \", text)\n",
    "    return text.strip()\n",
    "\n",
    "def clean_dataset(df):\n",
    "    '''Pulisce il DataFrame rimuovendo righe con campi essenziali mancanti e applicando clean_text'''\n",
    "    # Tieni solo righe con i campi essenziali\n",
    "    df = df.dropna(subset=[\"title\", \"abstract\", \"review\"]).reset_index(drop=True)\n",
    "\n",
    "    # Applica clean_text su tutte le colonne testuali\n",
    "    for col in [\"title\", \"abstract\", \"review\"]:\n",
    "        df[col] = df[col].map(clean_text)\n",
    "\n",
    "    return df\n",
    "\n",
    "def clean_response(text):\n",
    "    \"\"\"Rimuove token speciali e fallback in caso di errore\"\"\"\n",
    "    if \"<|start_header_id|>assistant<|end_header_id|>\\n\" in text:\n",
    "        text = text.split(\"<|start_header_id|>assistant<|end_header_id|>\\n\", 1)[-1]\n",
    "    return text.replace(\"<|eot_id|>\", \"\").strip()\n",
    "\n",
    "def extract_number(text):\n",
    "    \"\"\"Estrae numero da rate/confidence tipo 'Rating:###7: ...' \"\"\"\n",
    "    if pd.isna(text):\n",
    "        return None\n",
    "    match = re.search(r\"(\\d+)\", str(text))\n",
    "    return int(match.group(1)) if match else None\n",
    "\n",
    "# APPLY CLEANING\n",
    "grouped = clean_dataset(grouped)\n",
    "\n",
    "# Rimozione del campo decision (evita leakage)\n",
    "if \"decision\" in grouped.columns:\n",
    "    grouped = grouped.drop(columns=[\"decision\"])\n",
    "\n",
    "# Normalizzazione numerica rate/confidence\n",
    "grouped[\"rating_num\"] = grouped[\"rate\"].apply(lambda lst: extract_number(lst[0]) if isinstance(lst, list) and lst else None)\n",
    "grouped[\"confidence_num\"] = grouped[\"confidence\"].apply(lambda lst: extract_number(lst[0]) if isinstance(lst, list) and lst else None)\n",
    "\n",
    "# Split into train/val/test\n",
    "train_val, test = train_test_split(grouped, test_size=0.2, random_state=42)\n",
    "train, val = train_test_split(train_val, test_size=0.1, random_state=42)\n",
    "\n",
    "# Save for future use\n",
    "train.to_csv(\"./data/train.csv\", index=False)\n",
    "val.to_csv(\"./data/val.csv\", index=False)\n",
    "test.to_csv(\"./data/test.csv\", index=False)"
   ]
  },
  {
   "cell_type": "markdown",
   "id": "b9643f16",
   "metadata": {},
   "source": [
    "### Model upload and preparation\n",
    "This cell initializes the tokenizer and loads the Llama-3 model for causal language modeling. It sets up quantization with BitsAndBytes for efficient memory usage and configures the tokenizer for padding and device placement. The model is loaded with automatic device mapping to utilize available GPU resources."
   ]
  },
  {
   "cell_type": "code",
   "execution_count": 5,
   "id": "fdabd9ab",
   "metadata": {},
   "outputs": [
    {
     "name": "stderr",
     "output_type": "stream",
     "text": [
      "`torch_dtype` is deprecated! Use `dtype` instead!\n"
     ]
    },
    {
     "data": {
      "application/vnd.jupyter.widget-view+json": {
       "model_id": "86654d244cf846849d7212da61401acf",
       "version_major": 2,
       "version_minor": 0
      },
      "text/plain": [
       "Loading checkpoint shards:   0%|          | 0/2 [00:00<?, ?it/s]"
      ]
     },
     "metadata": {},
     "output_type": "display_data"
    }
   ],
   "source": [
    "# ---------------------- TOKENIZER & MODEL LLAMA ----------------------\n",
    "\n",
    "model_name = \"meta-llama/Llama-3.2-3B-Instruct\"\n",
    "\n",
    "bnb_config = BitsAndBytesConfig(\n",
    "    load_in_4bit=True,\n",
    "    bnb_4bit_quant_type=\"nf4\",\n",
    "    bnb_4bit_compute_dtype=torch.float16\n",
    ")\n",
    "\n",
    "tokenizer = AutoTokenizer.from_pretrained(model_name)\n",
    "tokenizer.pad_token = tokenizer.eos_token\n",
    "tokenizer.padding_side = \"left\"\n",
    "\n",
    "\n",
    "model = AutoModelForCausalLM.from_pretrained(\n",
    "    model_name,\n",
    "    device_map=\"auto\",  # this will choose GPU\n",
    "    quantization_config=bnb_config,\n",
    "    torch_dtype=torch.float16\n",
    ")"
   ]
  },
  {
   "cell_type": "markdown",
   "id": "92289294",
   "metadata": {},
   "source": [
    "This cell prints the device map used by the loaded Llama-3 model, showing how model layers are distributed across available hardware (such as GPUs or CPUs). This helps verify that the model is utilizing the intended devices for inference and training."
   ]
  },
  {
   "cell_type": "code",
   "execution_count": 6,
   "id": "70dac6e2",
   "metadata": {},
   "outputs": [
    {
     "name": "stdout",
     "output_type": "stream",
     "text": [
      "{'': 0}\n"
     ]
    }
   ],
   "source": [
    "print(model.hf_device_map)"
   ]
  },
  {
   "cell_type": "markdown",
   "id": "df96dee3",
   "metadata": {},
   "source": [
    "This cell defines the function used to build prompts for the language model. It formats the paper's title, abstract, and review into a structured input, instructing the model to generate strengths, weaknesses, a numeric rating, and a confidence score in a specific format."
   ]
  },
  {
   "cell_type": "code",
   "execution_count": 7,
   "id": "df8709e2",
   "metadata": {},
   "outputs": [],
   "source": [
    "# ---------------------- PROMPT FUNCTION ----------------------\n",
    "def build_prompt(example):\n",
    "    title = clean_text(example[\"title\"])\n",
    "    abstract = clean_text(example[\"abstract\"])\n",
    "    review = clean_text(example[\"review\"])\n",
    "    return (\n",
    "        f\"<|begin_of_text|><|start_header_id|>user<|end_header_id|>\\n\"\n",
    "        f\"Title: {title}\\n\"\n",
    "        f\"Abstract: {abstract}\\n\"\n",
    "        f\"Review: {review}\\n\"\n",
    "        \"Write a structured peer review with this exact format:\\n\\n\"\n",
    "        \"Strengths:\\n1. ...\\n2. ...\\n\\n\"\n",
    "        \"Weaknesses:\\n1. ...\\n2. ...<|eot_id|>\\n\"\n",
    "        \"Then, give a numeric rating (1-10) and a confidence score (1-5) in this format:\\n\"\n",
    "        \"Rating: <number>\\n\"\n",
    "        \"Confidence: <number><|eot_id|>\\n\"\n",
    "        \"<|start_header_id|>assistant<|end_header_id|>\\n\"\n",
    "    )"
   ]
  },
  {
   "cell_type": "markdown",
   "id": "c3bc2657",
   "metadata": {},
   "source": [
    "This cell provides functions to generate structured peer reviews using the language model. It takes each paper, builds a prompt, and uses the model to produce strengths, weaknesses, rating, and confidence predictions. The second function applies this process to an entire DataFrame, saving the generated reviews and handling errors during generation."
   ]
  },
  {
   "cell_type": "code",
   "execution_count": 8,
   "id": "18c0a817",
   "metadata": {},
   "outputs": [],
   "source": [
    "# ---------------------- GENERATE STRENGTHS AND WEAKNESSES (both zero-shot/ft) ----------------------\n",
    "def generate_review(model, tokenizer, paper, max_new_tokens=300):\n",
    "    prompt = build_prompt(paper)\n",
    "    inputs = tokenizer(prompt, return_tensors=\"pt\").to(model.device)\n",
    "\n",
    "    with torch.inference_mode():\n",
    "        outputs = model.generate(\n",
    "            **inputs,\n",
    "            max_new_tokens=max_new_tokens,\n",
    "            pad_token_id=tokenizer.eos_token_id,\n",
    "            do_sample=True,\n",
    "            temperature=0.2,\n",
    "            top_p=0.9,\n",
    "            use_cache=True\n",
    "        )\n",
    "\n",
    "    decoded = tokenizer.decode(outputs[0], skip_special_tokens=False)\n",
    "    decoded = clean_response(decoded)\n",
    "    return decoded\n",
    "\n",
    "def generate_reviews_for_df(df, model, tokenizer, output_col=\"generated_review\", output_file=None):\n",
    "    preds = []\n",
    "\n",
    "    print(f\"Generating predictions for {len(df)} papers\")\n",
    "\n",
    "    model.eval()\n",
    "    model.config.use_cache = True\n",
    "    if hasattr(model, \"gradient_checkpointing_disable\"):\n",
    "        model.gradient_checkpointing_disable()\n",
    "\n",
    "    for i, row in tqdm(df.iterrows(), total=len(df)):\n",
    "        try:\n",
    "            response = generate_review(model, tokenizer, row)\n",
    "            preds.append(response)\n",
    "        except Exception as e:\n",
    "            preds.append(f\"[ERROR: {e}]\")\n",
    "            print(f\"Error on row {i}: {e}\")\n",
    "\n",
    "    df[output_col] = preds\n",
    "\n",
    "    if output_file:\n",
    "        df.to_csv(output_file, index=False)\n",
    "        print(f\"Saved to {output_file}\")\n",
    "\n",
    "    return df"
   ]
  },
  {
   "cell_type": "markdown",
   "id": "6589a67c",
   "metadata": {},
   "source": [
    "#### Distillation\n",
    "These two cells generate structured peer reviews for the training and validation sets using the base language model. They clean the training and validation data, apply the review generation function, and save the resulting structured reviews to two CSV files for use as supervised targets in fine-tuning."
   ]
  },
  {
   "cell_type": "code",
   "execution_count": null,
   "id": "32b3440d",
   "metadata": {},
   "outputs": [
    {
     "name": "stdout",
     "output_type": "stream",
     "text": [
      "Generating predictions for 350 papers\n"
     ]
    },
    {
     "name": "stderr",
     "output_type": "stream",
     "text": [
      "100%|██████████| 350/350 [1:18:00<00:00, 13.37s/it]"
     ]
    },
    {
     "name": "stdout",
     "output_type": "stream",
     "text": [
      "Saved to train_structured.csv\n"
     ]
    },
    {
     "name": "stderr",
     "output_type": "stream",
     "text": [
      "\n"
     ]
    }
   ],
   "source": [
    "# ---------------------- STRUCTURE REVIEW (Distillation) ----------------------\n",
    "\n",
    "# Generate structured reviews (this is your supervised target)\n",
    "train = pd.read_csv(\"./data/train.csv\")\n",
    "\n",
    "#CLEANING\n",
    "train= clean_dataset(train)\n",
    "train_df = generate_reviews_for_df(train, model, tokenizer, output_file=\"./data/train_structured.csv\")\n",
    "train_df.to_csv(\"./data/train_structured.csv\", index=False)\n"
   ]
  },
  {
   "cell_type": "code",
   "execution_count": null,
   "id": "61e63c67",
   "metadata": {},
   "outputs": [
    {
     "name": "stdout",
     "output_type": "stream",
     "text": [
      "Generating predictions for 40 papers\n"
     ]
    },
    {
     "name": "stderr",
     "output_type": "stream",
     "text": [
      "100%|██████████| 40/40 [08:50<00:00, 13.27s/it]"
     ]
    },
    {
     "name": "stdout",
     "output_type": "stream",
     "text": [
      "Saved to val_structured.csv\n"
     ]
    },
    {
     "name": "stderr",
     "output_type": "stream",
     "text": [
      "\n"
     ]
    }
   ],
   "source": [
    "val = pd.read_csv(\"./data/val.csv\")\n",
    "val = clean_dataset(val)\n",
    "val_df = generate_reviews_for_df(val, model, tokenizer, output_file=\"./data/val_structured.csv\")\n",
    "val_df.to_csv(\"./data/val_structured.csv\", index=False)"
   ]
  },
  {
   "cell_type": "markdown",
   "id": "63282d9d",
   "metadata": {},
   "source": [
    "### LoRa configuration\n",
    "This cell configures the model for parameter-efficient fine-tuning using LoRA (Low-Rank Adaptation). It prepares the model for k-bit training and sets up the LoRA configuration, specifying target modules and hyperparameters. The LoRA adapter is then applied to the model to enable efficient adaptation during fine-tuning."
   ]
  },
  {
   "cell_type": "code",
   "execution_count": 11,
   "id": "fc8b12e8",
   "metadata": {},
   "outputs": [],
   "source": [
    "# ---------------------- LoRA CONFIG ----------------------\n",
    "\n",
    "model_ft = prepare_model_for_kbit_training(model)\n",
    "\n",
    "lora_config = LoraConfig(\n",
    "    r=8,\n",
    "    lora_alpha=16,\n",
    "    target_modules=[\"q_proj\", \"k_proj\", \"v_proj\", \"o_proj\"],\n",
    "    lora_dropout=0.05,\n",
    "    bias=\"none\",\n",
    "    task_type=\"CAUSAL_LM\"\n",
    ")\n",
    "\n",
    "model_ft = get_peft_model(model_ft, lora_config)"
   ]
  },
  {
   "cell_type": "markdown",
   "id": "8d4cbf38",
   "metadata": {},
   "source": [
    "This cell prepares the training and validation datasets for fine-tuning. It builds prompt-response pairs from the generated reviews, tokenizes the data for the language model, and removes unnecessary columns to create datasets suitable for supervised training."
   ]
  },
  {
   "cell_type": "code",
   "execution_count": 12,
   "id": "744762e1",
   "metadata": {},
   "outputs": [
    {
     "data": {
      "application/vnd.jupyter.widget-view+json": {
       "model_id": "5df13b9fcf794480b11a3e40e859d299",
       "version_major": 2,
       "version_minor": 0
      },
      "text/plain": [
       "Map:   0%|          | 0/350 [00:00<?, ? examples/s]"
      ]
     },
     "metadata": {},
     "output_type": "display_data"
    },
    {
     "data": {
      "application/vnd.jupyter.widget-view+json": {
       "model_id": "ff4956d14aae43dca078bb4ede9ca65b",
       "version_major": 2,
       "version_minor": 0
      },
      "text/plain": [
       "Map:   0%|          | 0/40 [00:00<?, ? examples/s]"
      ]
     },
     "metadata": {},
     "output_type": "display_data"
    },
    {
     "data": {
      "application/vnd.jupyter.widget-view+json": {
       "model_id": "6d4c3dbcd811475d9dca19de526be71f",
       "version_major": 2,
       "version_minor": 0
      },
      "text/plain": [
       "Map:   0%|          | 0/350 [00:00<?, ? examples/s]"
      ]
     },
     "metadata": {},
     "output_type": "display_data"
    },
    {
     "data": {
      "application/vnd.jupyter.widget-view+json": {
       "model_id": "ae428ba8699c4b6b84a8c0ceae5c4ebc",
       "version_major": 2,
       "version_minor": 0
      },
      "text/plain": [
       "Map:   0%|          | 0/40 [00:00<?, ? examples/s]"
      ]
     },
     "metadata": {},
     "output_type": "display_data"
    }
   ],
   "source": [
    "# ---------------------- FINE-TUNING PREP ----------------------\n",
    "def ft_prompt(example):\n",
    "    prompt = build_prompt(example)\n",
    "    response = example[\"generated_review\"].strip() + \"\\n<|eot_id|>\"\n",
    "    return {\"prompt\": prompt, \"response\": response}\n",
    "\n",
    "train_dataset = Dataset.from_pandas(train_df).map(ft_prompt)\n",
    "val_dataset = Dataset.from_pandas(val_df).map(ft_prompt)\n",
    "\n",
    "def tokenize(example):\n",
    "    tokens= tokenizer(\n",
    "        example[\"prompt\"] + example[\"response\"], \n",
    "        truncation=True, \n",
    "        padding=\"max_length\", \n",
    "        max_length=300\n",
    "    )\n",
    "    tokens[\"labels\"] = tokens[\"input_ids\"].copy()\n",
    "    return tokens\n",
    "\n",
    "train_dataset = train_dataset.map(tokenize)\n",
    "val_dataset = val_dataset.map(tokenize)\n",
    "\n",
    "drop_cols = list(set(train_df.columns) | {\"prompt\", \"response\"})\n",
    "train_dataset = train_dataset.remove_columns([c for c in drop_cols if c in train_dataset.column_names])\n",
    "val_dataset = val_dataset.remove_columns([c for c in drop_cols if c in val_dataset.column_names])"
   ]
  },
  {
   "cell_type": "markdown",
   "id": "ffec5356",
   "metadata": {},
   "source": [
    "### Training\n",
    "This cell sets up and runs the training loop for fine-tuning the model using the Hugging Face Trainer API. It defines training arguments such as batch size, evaluation strategy, number of epochs, and learning rate, then starts the training process and saves the fine-tuned model and tokenizer."
   ]
  },
  {
   "cell_type": "code",
   "execution_count": 13,
   "id": "535f46b6",
   "metadata": {},
   "outputs": [
    {
     "name": "stderr",
     "output_type": "stream",
     "text": [
      "/tmp/ipykernel_3401/3718651729.py:19: FutureWarning: `tokenizer` is deprecated and will be removed in version 5.0.0 for `Trainer.__init__`. Use `processing_class` instead.\n",
      "  trainer = Trainer(\n",
      "The tokenizer has new PAD/BOS/EOS tokens that differ from the model config and generation config. The model config and generation config were aligned accordingly, being updated with the tokenizer's values. Updated tokens: {'eos_token_id': 128009, 'pad_token_id': 128009}.\n",
      "`use_cache=True` is incompatible with gradient checkpointing. Setting `use_cache=False`.\n",
      "/home/disi/miniconda3/lib/python3.12/site-packages/torch/utils/checkpoint.py:460: UserWarning: torch.utils.checkpoint: please pass in use_reentrant=True or use_reentrant=False explicitly. The default value of use_reentrant will be updated to be False in the future. To maintain current behavior, pass use_reentrant=True. It is recommended that you use use_reentrant=False. Refer to docs for more details on the differences between the two variants.\n",
      "  warnings.warn(\n"
     ]
    },
    {
     "data": {
      "text/html": [
       "\n",
       "    <div>\n",
       "      \n",
       "      <progress value='525' max='525' style='width:300px; height:20px; vertical-align: middle;'></progress>\n",
       "      [525/525 03:40, Epoch 3/3]\n",
       "    </div>\n",
       "    <table border=\"1\" class=\"dataframe\">\n",
       "  <thead>\n",
       " <tr style=\"text-align: left;\">\n",
       "      <th>Step</th>\n",
       "      <th>Training Loss</th>\n",
       "      <th>Validation Loss</th>\n",
       "    </tr>\n",
       "  </thead>\n",
       "  <tbody>\n",
       "    <tr>\n",
       "      <td>100</td>\n",
       "      <td>2.749900</td>\n",
       "      <td>2.605802</td>\n",
       "    </tr>\n",
       "    <tr>\n",
       "      <td>200</td>\n",
       "      <td>2.585000</td>\n",
       "      <td>2.529271</td>\n",
       "    </tr>\n",
       "    <tr>\n",
       "      <td>300</td>\n",
       "      <td>2.651100</td>\n",
       "      <td>2.512285</td>\n",
       "    </tr>\n",
       "    <tr>\n",
       "      <td>400</td>\n",
       "      <td>2.545100</td>\n",
       "      <td>2.505570</td>\n",
       "    </tr>\n",
       "    <tr>\n",
       "      <td>500</td>\n",
       "      <td>2.518100</td>\n",
       "      <td>2.502952</td>\n",
       "    </tr>\n",
       "  </tbody>\n",
       "</table><p>"
      ],
      "text/plain": [
       "<IPython.core.display.HTML object>"
      ]
     },
     "metadata": {},
     "output_type": "display_data"
    },
    {
     "name": "stderr",
     "output_type": "stream",
     "text": [
      "/home/disi/miniconda3/lib/python3.12/site-packages/torch/utils/checkpoint.py:460: UserWarning: torch.utils.checkpoint: please pass in use_reentrant=True or use_reentrant=False explicitly. The default value of use_reentrant will be updated to be False in the future. To maintain current behavior, pass use_reentrant=True. It is recommended that you use use_reentrant=False. Refer to docs for more details on the differences between the two variants.\n",
      "  warnings.warn(\n",
      "/home/disi/miniconda3/lib/python3.12/site-packages/torch/utils/checkpoint.py:460: UserWarning: torch.utils.checkpoint: please pass in use_reentrant=True or use_reentrant=False explicitly. The default value of use_reentrant will be updated to be False in the future. To maintain current behavior, pass use_reentrant=True. It is recommended that you use use_reentrant=False. Refer to docs for more details on the differences between the two variants.\n",
      "  warnings.warn(\n",
      "/home/disi/miniconda3/lib/python3.12/site-packages/torch/utils/checkpoint.py:460: UserWarning: torch.utils.checkpoint: please pass in use_reentrant=True or use_reentrant=False explicitly. The default value of use_reentrant will be updated to be False in the future. To maintain current behavior, pass use_reentrant=True. It is recommended that you use use_reentrant=False. Refer to docs for more details on the differences between the two variants.\n",
      "  warnings.warn(\n",
      "/home/disi/miniconda3/lib/python3.12/site-packages/torch/utils/checkpoint.py:460: UserWarning: torch.utils.checkpoint: please pass in use_reentrant=True or use_reentrant=False explicitly. The default value of use_reentrant will be updated to be False in the future. To maintain current behavior, pass use_reentrant=True. It is recommended that you use use_reentrant=False. Refer to docs for more details on the differences between the two variants.\n",
      "  warnings.warn(\n",
      "/home/disi/miniconda3/lib/python3.12/site-packages/torch/utils/checkpoint.py:460: UserWarning: torch.utils.checkpoint: please pass in use_reentrant=True or use_reentrant=False explicitly. The default value of use_reentrant will be updated to be False in the future. To maintain current behavior, pass use_reentrant=True. It is recommended that you use use_reentrant=False. Refer to docs for more details on the differences between the two variants.\n",
      "  warnings.warn(\n"
     ]
    },
    {
     "data": {
      "text/plain": [
       "('./model/finetuned-llama3-lora/tokenizer_config.json',\n",
       " './model/finetuned-llama3-lora/special_tokens_map.json',\n",
       " './model/finetuned-llama3-lora/chat_template.jinja',\n",
       " './model/finetuned-llama3-lora/tokenizer.json')"
      ]
     },
     "execution_count": 13,
     "metadata": {},
     "output_type": "execute_result"
    }
   ],
   "source": [
    "# ---------------------- TRAINING ----------------------\n",
    "\n",
    "training_args = TrainingArguments(\n",
    "    output_dir=\"./model/finetuned-llama3\",\n",
    "    remove_unused_columns=False,\n",
    "    per_device_train_batch_size=2,\n",
    "    per_device_eval_batch_size=2,\n",
    "    eval_strategy=\"steps\",\n",
    "    save_strategy=\"steps\",\n",
    "    logging_steps=10,\n",
    "    save_steps=100,\n",
    "    eval_steps=100,\n",
    "    num_train_epochs=3,\n",
    "    learning_rate=2e-5,\n",
    "    fp16=True,\n",
    "    report_to=\"none\"\n",
    ")\n",
    "\n",
    "trainer = Trainer(\n",
    "    model=model_ft,\n",
    "    args=training_args,\n",
    "    train_dataset=train_dataset,\n",
    "    eval_dataset=val_dataset,\n",
    "    tokenizer=tokenizer\n",
    ")\n",
    "\n",
    "trainer.train()\n",
    "\n",
    "# Save model\n",
    "model_ft.save_pretrained(\"./model/finetuned-llama3-lora\")\n",
    "tokenizer.save_pretrained(\"./model/finetuned-llama3-lora\")"
   ]
  },
  {
   "cell_type": "markdown",
   "id": "4cbf9501",
   "metadata": {},
   "source": [
    "### Generating reviews using zero-shot and fine-tuning\n",
    "This cell performs inference on the test set using the base language model. It cleans the test data, generates zero-shot structured peer reviews, and saves the predictions to a CSV file for later evaluation."
   ]
  },
  {
   "cell_type": "code",
   "execution_count": 14,
   "id": "29ac57db",
   "metadata": {},
   "outputs": [
    {
     "name": "stdout",
     "output_type": "stream",
     "text": [
      "Generating predictions for 98 papers\n"
     ]
    },
    {
     "name": "stderr",
     "output_type": "stream",
     "text": [
      "100%|██████████| 98/98 [26:00<00:00, 15.93s/it]"
     ]
    },
    {
     "name": "stdout",
     "output_type": "stream",
     "text": [
      "Saved to ./output/zero_shot_predictions.csv\n"
     ]
    },
    {
     "name": "stderr",
     "output_type": "stream",
     "text": [
      "\n"
     ]
    },
    {
     "data": {
      "text/html": [
       "<div>\n",
       "<style scoped>\n",
       "    .dataframe tbody tr th:only-of-type {\n",
       "        vertical-align: middle;\n",
       "    }\n",
       "\n",
       "    .dataframe tbody tr th {\n",
       "        vertical-align: top;\n",
       "    }\n",
       "\n",
       "    .dataframe thead th {\n",
       "        text-align: right;\n",
       "    }\n",
       "</style>\n",
       "<table border=\"1\" class=\"dataframe\">\n",
       "  <thead>\n",
       "    <tr style=\"text-align: right;\">\n",
       "      <th></th>\n",
       "      <th>title</th>\n",
       "      <th>abstract</th>\n",
       "      <th>review</th>\n",
       "      <th>rate</th>\n",
       "      <th>confidence</th>\n",
       "      <th>rating_num</th>\n",
       "      <th>confidence_num</th>\n",
       "      <th>zero_shot_review</th>\n",
       "    </tr>\n",
       "  </thead>\n",
       "  <tbody>\n",
       "    <tr>\n",
       "      <th>0</th>\n",
       "      <td>Training deep neural-networks using a noise ad...</td>\n",
       "      <td>The availability of large datsets has enabled ...</td>\n",
       "      <td>This paper looks at how to train if there are ...</td>\n",
       "      <td>['Rating:###5: Marginally below acceptance thr...</td>\n",
       "      <td>['Confidence:###4: The reviewer is confident b...</td>\n",
       "      <td>5</td>\n",
       "      <td>4</td>\n",
       "      <td>Strengths: 1. The paper addresses a very impor...</td>\n",
       "    </tr>\n",
       "    <tr>\n",
       "      <th>1</th>\n",
       "      <td>Deep Character-Level Neural Machine Translatio...</td>\n",
       "      <td>Neural machine translation aims at building a ...</td>\n",
       "      <td>* Summary: This paper proposes a neural machin...</td>\n",
       "      <td>['Rating:###6: Marginally above acceptance thr...</td>\n",
       "      <td>['Confidence:###4: The reviewer is confident b...</td>\n",
       "      <td>6</td>\n",
       "      <td>4</td>\n",
       "      <td>Strengths: 1. The paper is well-written and th...</td>\n",
       "    </tr>\n",
       "    <tr>\n",
       "      <th>2</th>\n",
       "      <td>Third Person Imitation Learning | OpenReview</td>\n",
       "      <td>Reinforcement learning (RL) makes it possible ...</td>\n",
       "      <td>This paper proposed a novel adversarial framew...</td>\n",
       "      <td>['Rating:###5: Marginally below acceptance thr...</td>\n",
       "      <td>['Confidence:###3: The reviewer is fairly conf...</td>\n",
       "      <td>5</td>\n",
       "      <td>3</td>\n",
       "      <td>Strengths: 1. The paper presents a novel appro...</td>\n",
       "    </tr>\n",
       "    <tr>\n",
       "      <th>3</th>\n",
       "      <td>Unsupervised Learning of State Representations...</td>\n",
       "      <td>We present an approach for learning state repr...</td>\n",
       "      <td>This paper is about learning unsupervised stat...</td>\n",
       "      <td>['Rating:###6: Marginally above acceptance thr...</td>\n",
       "      <td>['Confidence:###4: The reviewer is confident b...</td>\n",
       "      <td>6</td>\n",
       "      <td>4</td>\n",
       "      <td>Strengths:\\n1. The paper presents a novel appr...</td>\n",
       "    </tr>\n",
       "    <tr>\n",
       "      <th>4</th>\n",
       "      <td>The Neural Noisy Channel | OpenReview</td>\n",
       "      <td>We formulate sequence to sequence transduction...</td>\n",
       "      <td>This paper proposes to use an SSNT model of p(...</td>\n",
       "      <td>['Rating:###7: Good paper, accept', 'Rating:##...</td>\n",
       "      <td>['Confidence:###4: The reviewer is confident b...</td>\n",
       "      <td>7</td>\n",
       "      <td>4</td>\n",
       "      <td>Strengths: 1. The paper proposes a novel model...</td>\n",
       "    </tr>\n",
       "    <tr>\n",
       "      <th>...</th>\n",
       "      <td>...</td>\n",
       "      <td>...</td>\n",
       "      <td>...</td>\n",
       "      <td>...</td>\n",
       "      <td>...</td>\n",
       "      <td>...</td>\n",
       "      <td>...</td>\n",
       "      <td>...</td>\n",
       "    </tr>\n",
       "    <tr>\n",
       "      <th>93</th>\n",
       "      <td>OMG: Orthogonal Method of Grouping With Applic...</td>\n",
       "      <td>Training a classifier with only a few examples...</td>\n",
       "      <td>This paper proposes a k-shot learning framewor...</td>\n",
       "      <td>['Rating:###4: Ok but not good enough - reject...</td>\n",
       "      <td>['Confidence:###4: The reviewer is confident b...</td>\n",
       "      <td>4</td>\n",
       "      <td>4</td>\n",
       "      <td>Strengths: 1. The idea of orthogonal grouping ...</td>\n",
       "    </tr>\n",
       "    <tr>\n",
       "      <th>94</th>\n",
       "      <td>Rethinking Numerical Representations for Deep ...</td>\n",
       "      <td>With ever-increasing computational demand for ...</td>\n",
       "      <td>The paper studies the impact of using customiz...</td>\n",
       "      <td>['Rating:###6: Marginally above acceptance thr...</td>\n",
       "      <td>['Confidence:###3: The reviewer is fairly conf...</td>\n",
       "      <td>6</td>\n",
       "      <td>3</td>\n",
       "      <td>Strengths: 1. The paper explores the impact of...</td>\n",
       "    </tr>\n",
       "    <tr>\n",
       "      <th>95</th>\n",
       "      <td>Calibrating Energy-based Generative Adversaria...</td>\n",
       "      <td>In this paper, we propose to equip Generative ...</td>\n",
       "      <td>This paper addresses one of the major shortcom...</td>\n",
       "      <td>['Rating:###8: Top 50% of accepted papers, cle...</td>\n",
       "      <td>['Confidence:###4: The reviewer is confident b...</td>\n",
       "      <td>8</td>\n",
       "      <td>4</td>\n",
       "      <td>Strengths: 1. The paper presents a novel appro...</td>\n",
       "    </tr>\n",
       "    <tr>\n",
       "      <th>96</th>\n",
       "      <td>Machine Solver for Physics Word Problems | Ope...</td>\n",
       "      <td>We build a machine solver for word problems on...</td>\n",
       "      <td>The authors describe a system for solving phys...</td>\n",
       "      <td>['Rating:###4: Ok but not good enough - reject...</td>\n",
       "      <td>['Confidence:###4: The reviewer is confident b...</td>\n",
       "      <td>4</td>\n",
       "      <td>4</td>\n",
       "      <td>Strengths: 1. The paper is clearly written and...</td>\n",
       "    </tr>\n",
       "    <tr>\n",
       "      <th>97</th>\n",
       "      <td>Shift Aggregate Extract Networks | OpenReview</td>\n",
       "      <td>The Shift Aggregate Extract Network SAEN is an...</td>\n",
       "      <td>the paper proposed a method mainly for graph c...</td>\n",
       "      <td>['Rating:###5: Marginally below acceptance thr...</td>\n",
       "      <td>['Confidence:###3: The reviewer is fairly conf...</td>\n",
       "      <td>5</td>\n",
       "      <td>3</td>\n",
       "      <td>Strengths: 1. The paper proposes a novel appro...</td>\n",
       "    </tr>\n",
       "  </tbody>\n",
       "</table>\n",
       "<p>98 rows × 8 columns</p>\n",
       "</div>"
      ],
      "text/plain": [
       "                                                title  \\\n",
       "0   Training deep neural-networks using a noise ad...   \n",
       "1   Deep Character-Level Neural Machine Translatio...   \n",
       "2        Third Person Imitation Learning | OpenReview   \n",
       "3   Unsupervised Learning of State Representations...   \n",
       "4               The Neural Noisy Channel | OpenReview   \n",
       "..                                                ...   \n",
       "93  OMG: Orthogonal Method of Grouping With Applic...   \n",
       "94  Rethinking Numerical Representations for Deep ...   \n",
       "95  Calibrating Energy-based Generative Adversaria...   \n",
       "96  Machine Solver for Physics Word Problems | Ope...   \n",
       "97      Shift Aggregate Extract Networks | OpenReview   \n",
       "\n",
       "                                             abstract  \\\n",
       "0   The availability of large datsets has enabled ...   \n",
       "1   Neural machine translation aims at building a ...   \n",
       "2   Reinforcement learning (RL) makes it possible ...   \n",
       "3   We present an approach for learning state repr...   \n",
       "4   We formulate sequence to sequence transduction...   \n",
       "..                                                ...   \n",
       "93  Training a classifier with only a few examples...   \n",
       "94  With ever-increasing computational demand for ...   \n",
       "95  In this paper, we propose to equip Generative ...   \n",
       "96  We build a machine solver for word problems on...   \n",
       "97  The Shift Aggregate Extract Network SAEN is an...   \n",
       "\n",
       "                                               review  \\\n",
       "0   This paper looks at how to train if there are ...   \n",
       "1   * Summary: This paper proposes a neural machin...   \n",
       "2   This paper proposed a novel adversarial framew...   \n",
       "3   This paper is about learning unsupervised stat...   \n",
       "4   This paper proposes to use an SSNT model of p(...   \n",
       "..                                                ...   \n",
       "93  This paper proposes a k-shot learning framewor...   \n",
       "94  The paper studies the impact of using customiz...   \n",
       "95  This paper addresses one of the major shortcom...   \n",
       "96  The authors describe a system for solving phys...   \n",
       "97  the paper proposed a method mainly for graph c...   \n",
       "\n",
       "                                                 rate  \\\n",
       "0   ['Rating:###5: Marginally below acceptance thr...   \n",
       "1   ['Rating:###6: Marginally above acceptance thr...   \n",
       "2   ['Rating:###5: Marginally below acceptance thr...   \n",
       "3   ['Rating:###6: Marginally above acceptance thr...   \n",
       "4   ['Rating:###7: Good paper, accept', 'Rating:##...   \n",
       "..                                                ...   \n",
       "93  ['Rating:###4: Ok but not good enough - reject...   \n",
       "94  ['Rating:###6: Marginally above acceptance thr...   \n",
       "95  ['Rating:###8: Top 50% of accepted papers, cle...   \n",
       "96  ['Rating:###4: Ok but not good enough - reject...   \n",
       "97  ['Rating:###5: Marginally below acceptance thr...   \n",
       "\n",
       "                                           confidence  rating_num  \\\n",
       "0   ['Confidence:###4: The reviewer is confident b...           5   \n",
       "1   ['Confidence:###4: The reviewer is confident b...           6   \n",
       "2   ['Confidence:###3: The reviewer is fairly conf...           5   \n",
       "3   ['Confidence:###4: The reviewer is confident b...           6   \n",
       "4   ['Confidence:###4: The reviewer is confident b...           7   \n",
       "..                                                ...         ...   \n",
       "93  ['Confidence:###4: The reviewer is confident b...           4   \n",
       "94  ['Confidence:###3: The reviewer is fairly conf...           6   \n",
       "95  ['Confidence:###4: The reviewer is confident b...           8   \n",
       "96  ['Confidence:###4: The reviewer is confident b...           4   \n",
       "97  ['Confidence:###3: The reviewer is fairly conf...           5   \n",
       "\n",
       "    confidence_num                                   zero_shot_review  \n",
       "0                4  Strengths: 1. The paper addresses a very impor...  \n",
       "1                4  Strengths: 1. The paper is well-written and th...  \n",
       "2                3  Strengths: 1. The paper presents a novel appro...  \n",
       "3                4  Strengths:\\n1. The paper presents a novel appr...  \n",
       "4                4  Strengths: 1. The paper proposes a novel model...  \n",
       "..             ...                                                ...  \n",
       "93               4  Strengths: 1. The idea of orthogonal grouping ...  \n",
       "94               3  Strengths: 1. The paper explores the impact of...  \n",
       "95               4  Strengths: 1. The paper presents a novel appro...  \n",
       "96               4  Strengths: 1. The paper is clearly written and...  \n",
       "97               3  Strengths: 1. The paper proposes a novel appro...  \n",
       "\n",
       "[98 rows x 8 columns]"
      ]
     },
     "execution_count": 14,
     "metadata": {},
     "output_type": "execute_result"
    }
   ],
   "source": [
    "# ---------------------- INFERENCE ON TEST SET ----------------------\n",
    "# Generate zero-shot reviews\n",
    "test_df = pd.read_csv(\"./data/test.csv\")\n",
    "test_df = clean_dataset(test_df)\n",
    "\n",
    "generate_reviews_for_df(\n",
    "    df=test_df,\n",
    "    model=model,\n",
    "    tokenizer=tokenizer,\n",
    "    output_col=\"zero_shot_review\",\n",
    "    output_file=\"./output/zero_shot_predictions.csv\"\n",
    ")\n"
   ]
  },
  {
   "cell_type": "markdown",
   "id": "a93d1779",
   "metadata": {},
   "source": [
    "This cell generates structured peer reviews for the test set using the fine-tuned model. It cleans the test data, applies the review generation function, and saves the resulting predictions to a CSV file for evaluation."
   ]
  },
  {
   "cell_type": "code",
   "execution_count": 15,
   "id": "6188ad05",
   "metadata": {},
   "outputs": [
    {
     "name": "stdout",
     "output_type": "stream",
     "text": [
      "Generating predictions for 98 papers\n"
     ]
    },
    {
     "name": "stderr",
     "output_type": "stream",
     "text": [
      "100%|██████████| 98/98 [25:15<00:00, 15.46s/it]"
     ]
    },
    {
     "name": "stdout",
     "output_type": "stream",
     "text": [
      "Saved to ./output/finetuned_predictions.csv\n"
     ]
    },
    {
     "name": "stderr",
     "output_type": "stream",
     "text": [
      "\n"
     ]
    },
    {
     "data": {
      "text/html": [
       "<div>\n",
       "<style scoped>\n",
       "    .dataframe tbody tr th:only-of-type {\n",
       "        vertical-align: middle;\n",
       "    }\n",
       "\n",
       "    .dataframe tbody tr th {\n",
       "        vertical-align: top;\n",
       "    }\n",
       "\n",
       "    .dataframe thead th {\n",
       "        text-align: right;\n",
       "    }\n",
       "</style>\n",
       "<table border=\"1\" class=\"dataframe\">\n",
       "  <thead>\n",
       "    <tr style=\"text-align: right;\">\n",
       "      <th></th>\n",
       "      <th>title</th>\n",
       "      <th>abstract</th>\n",
       "      <th>review</th>\n",
       "      <th>rate</th>\n",
       "      <th>confidence</th>\n",
       "      <th>rating_num</th>\n",
       "      <th>confidence_num</th>\n",
       "      <th>fine_tuned_review</th>\n",
       "    </tr>\n",
       "  </thead>\n",
       "  <tbody>\n",
       "    <tr>\n",
       "      <th>0</th>\n",
       "      <td>Training deep neural-networks using a noise ad...</td>\n",
       "      <td>The availability of large datsets has enabled ...</td>\n",
       "      <td>This paper looks at how to train if there are ...</td>\n",
       "      <td>['Rating:###5: Marginally below acceptance thr...</td>\n",
       "      <td>['Confidence:###4: The reviewer is confident b...</td>\n",
       "      <td>5</td>\n",
       "      <td>4</td>\n",
       "      <td>Strengths: 1. The paper addresses a real-world...</td>\n",
       "    </tr>\n",
       "    <tr>\n",
       "      <th>1</th>\n",
       "      <td>Deep Character-Level Neural Machine Translatio...</td>\n",
       "      <td>Neural machine translation aims at building a ...</td>\n",
       "      <td>* Summary: This paper proposes a neural machin...</td>\n",
       "      <td>['Rating:###6: Marginally above acceptance thr...</td>\n",
       "      <td>['Confidence:###4: The reviewer is confident b...</td>\n",
       "      <td>6</td>\n",
       "      <td>4</td>\n",
       "      <td>Strengths: 1. The paper presents a novel appro...</td>\n",
       "    </tr>\n",
       "    <tr>\n",
       "      <th>2</th>\n",
       "      <td>Third Person Imitation Learning | OpenReview</td>\n",
       "      <td>Reinforcement learning (RL) makes it possible ...</td>\n",
       "      <td>This paper proposed a novel adversarial framew...</td>\n",
       "      <td>['Rating:###5: Marginally below acceptance thr...</td>\n",
       "      <td>['Confidence:###3: The reviewer is fairly conf...</td>\n",
       "      <td>5</td>\n",
       "      <td>3</td>\n",
       "      <td>Strengths: 1. The paper presents a novel appro...</td>\n",
       "    </tr>\n",
       "    <tr>\n",
       "      <th>3</th>\n",
       "      <td>Unsupervised Learning of State Representations...</td>\n",
       "      <td>We present an approach for learning state repr...</td>\n",
       "      <td>This paper is about learning unsupervised stat...</td>\n",
       "      <td>['Rating:###6: Marginally above acceptance thr...</td>\n",
       "      <td>['Confidence:###4: The reviewer is confident b...</td>\n",
       "      <td>6</td>\n",
       "      <td>4</td>\n",
       "      <td>Strengths:\\n1. The paper proposes a novel appr...</td>\n",
       "    </tr>\n",
       "    <tr>\n",
       "      <th>4</th>\n",
       "      <td>The Neural Noisy Channel | OpenReview</td>\n",
       "      <td>We formulate sequence to sequence transduction...</td>\n",
       "      <td>This paper proposes to use an SSNT model of p(...</td>\n",
       "      <td>['Rating:###7: Good paper, accept', 'Rating:##...</td>\n",
       "      <td>['Confidence:###4: The reviewer is confident b...</td>\n",
       "      <td>7</td>\n",
       "      <td>4</td>\n",
       "      <td>Strengths: \\n1. The paper proposes a novel app...</td>\n",
       "    </tr>\n",
       "    <tr>\n",
       "      <th>...</th>\n",
       "      <td>...</td>\n",
       "      <td>...</td>\n",
       "      <td>...</td>\n",
       "      <td>...</td>\n",
       "      <td>...</td>\n",
       "      <td>...</td>\n",
       "      <td>...</td>\n",
       "      <td>...</td>\n",
       "    </tr>\n",
       "    <tr>\n",
       "      <th>93</th>\n",
       "      <td>OMG: Orthogonal Method of Grouping With Applic...</td>\n",
       "      <td>Training a classifier with only a few examples...</td>\n",
       "      <td>This paper proposes a k-shot learning framewor...</td>\n",
       "      <td>['Rating:###4: Ok but not good enough - reject...</td>\n",
       "      <td>['Confidence:###4: The reviewer is confident b...</td>\n",
       "      <td>4</td>\n",
       "      <td>4</td>\n",
       "      <td>Strengths: 1. The paper proposes a novel appro...</td>\n",
       "    </tr>\n",
       "    <tr>\n",
       "      <th>94</th>\n",
       "      <td>Rethinking Numerical Representations for Deep ...</td>\n",
       "      <td>With ever-increasing computational demand for ...</td>\n",
       "      <td>The paper studies the impact of using customiz...</td>\n",
       "      <td>['Rating:###6: Marginally above acceptance thr...</td>\n",
       "      <td>['Confidence:###3: The reviewer is fairly conf...</td>\n",
       "      <td>6</td>\n",
       "      <td>3</td>\n",
       "      <td>Strengths: 1. The paper is well-written and ea...</td>\n",
       "    </tr>\n",
       "    <tr>\n",
       "      <th>95</th>\n",
       "      <td>Calibrating Energy-based Generative Adversaria...</td>\n",
       "      <td>In this paper, we propose to equip Generative ...</td>\n",
       "      <td>This paper addresses one of the major shortcom...</td>\n",
       "      <td>['Rating:###8: Top 50% of accepted papers, cle...</td>\n",
       "      <td>['Confidence:###4: The reviewer is confident b...</td>\n",
       "      <td>8</td>\n",
       "      <td>4</td>\n",
       "      <td>Strengths: 1. The paper is well-written and cl...</td>\n",
       "    </tr>\n",
       "    <tr>\n",
       "      <th>96</th>\n",
       "      <td>Machine Solver for Physics Word Problems | Ope...</td>\n",
       "      <td>We build a machine solver for word problems on...</td>\n",
       "      <td>The authors describe a system for solving phys...</td>\n",
       "      <td>['Rating:###4: Ok but not good enough - reject...</td>\n",
       "      <td>['Confidence:###4: The reviewer is confident b...</td>\n",
       "      <td>4</td>\n",
       "      <td>4</td>\n",
       "      <td>Strengths: 1. The paper is well written and cl...</td>\n",
       "    </tr>\n",
       "    <tr>\n",
       "      <th>97</th>\n",
       "      <td>Shift Aggregate Extract Networks | OpenReview</td>\n",
       "      <td>The Shift Aggregate Extract Network SAEN is an...</td>\n",
       "      <td>the paper proposed a method mainly for graph c...</td>\n",
       "      <td>['Rating:###5: Marginally below acceptance thr...</td>\n",
       "      <td>['Confidence:###3: The reviewer is fairly conf...</td>\n",
       "      <td>5</td>\n",
       "      <td>3</td>\n",
       "      <td>Strengths: 1. The authors propose a novel appr...</td>\n",
       "    </tr>\n",
       "  </tbody>\n",
       "</table>\n",
       "<p>98 rows × 8 columns</p>\n",
       "</div>"
      ],
      "text/plain": [
       "                                                title  \\\n",
       "0   Training deep neural-networks using a noise ad...   \n",
       "1   Deep Character-Level Neural Machine Translatio...   \n",
       "2        Third Person Imitation Learning | OpenReview   \n",
       "3   Unsupervised Learning of State Representations...   \n",
       "4               The Neural Noisy Channel | OpenReview   \n",
       "..                                                ...   \n",
       "93  OMG: Orthogonal Method of Grouping With Applic...   \n",
       "94  Rethinking Numerical Representations for Deep ...   \n",
       "95  Calibrating Energy-based Generative Adversaria...   \n",
       "96  Machine Solver for Physics Word Problems | Ope...   \n",
       "97      Shift Aggregate Extract Networks | OpenReview   \n",
       "\n",
       "                                             abstract  \\\n",
       "0   The availability of large datsets has enabled ...   \n",
       "1   Neural machine translation aims at building a ...   \n",
       "2   Reinforcement learning (RL) makes it possible ...   \n",
       "3   We present an approach for learning state repr...   \n",
       "4   We formulate sequence to sequence transduction...   \n",
       "..                                                ...   \n",
       "93  Training a classifier with only a few examples...   \n",
       "94  With ever-increasing computational demand for ...   \n",
       "95  In this paper, we propose to equip Generative ...   \n",
       "96  We build a machine solver for word problems on...   \n",
       "97  The Shift Aggregate Extract Network SAEN is an...   \n",
       "\n",
       "                                               review  \\\n",
       "0   This paper looks at how to train if there are ...   \n",
       "1   * Summary: This paper proposes a neural machin...   \n",
       "2   This paper proposed a novel adversarial framew...   \n",
       "3   This paper is about learning unsupervised stat...   \n",
       "4   This paper proposes to use an SSNT model of p(...   \n",
       "..                                                ...   \n",
       "93  This paper proposes a k-shot learning framewor...   \n",
       "94  The paper studies the impact of using customiz...   \n",
       "95  This paper addresses one of the major shortcom...   \n",
       "96  The authors describe a system for solving phys...   \n",
       "97  the paper proposed a method mainly for graph c...   \n",
       "\n",
       "                                                 rate  \\\n",
       "0   ['Rating:###5: Marginally below acceptance thr...   \n",
       "1   ['Rating:###6: Marginally above acceptance thr...   \n",
       "2   ['Rating:###5: Marginally below acceptance thr...   \n",
       "3   ['Rating:###6: Marginally above acceptance thr...   \n",
       "4   ['Rating:###7: Good paper, accept', 'Rating:##...   \n",
       "..                                                ...   \n",
       "93  ['Rating:###4: Ok but not good enough - reject...   \n",
       "94  ['Rating:###6: Marginally above acceptance thr...   \n",
       "95  ['Rating:###8: Top 50% of accepted papers, cle...   \n",
       "96  ['Rating:###4: Ok but not good enough - reject...   \n",
       "97  ['Rating:###5: Marginally below acceptance thr...   \n",
       "\n",
       "                                           confidence  rating_num  \\\n",
       "0   ['Confidence:###4: The reviewer is confident b...           5   \n",
       "1   ['Confidence:###4: The reviewer is confident b...           6   \n",
       "2   ['Confidence:###3: The reviewer is fairly conf...           5   \n",
       "3   ['Confidence:###4: The reviewer is confident b...           6   \n",
       "4   ['Confidence:###4: The reviewer is confident b...           7   \n",
       "..                                                ...         ...   \n",
       "93  ['Confidence:###4: The reviewer is confident b...           4   \n",
       "94  ['Confidence:###3: The reviewer is fairly conf...           6   \n",
       "95  ['Confidence:###4: The reviewer is confident b...           8   \n",
       "96  ['Confidence:###4: The reviewer is confident b...           4   \n",
       "97  ['Confidence:###3: The reviewer is fairly conf...           5   \n",
       "\n",
       "    confidence_num                                  fine_tuned_review  \n",
       "0                4  Strengths: 1. The paper addresses a real-world...  \n",
       "1                4  Strengths: 1. The paper presents a novel appro...  \n",
       "2                3  Strengths: 1. The paper presents a novel appro...  \n",
       "3                4  Strengths:\\n1. The paper proposes a novel appr...  \n",
       "4                4  Strengths: \\n1. The paper proposes a novel app...  \n",
       "..             ...                                                ...  \n",
       "93               4  Strengths: 1. The paper proposes a novel appro...  \n",
       "94               3  Strengths: 1. The paper is well-written and ea...  \n",
       "95               4  Strengths: 1. The paper is well-written and cl...  \n",
       "96               4  Strengths: 1. The paper is well written and cl...  \n",
       "97               3  Strengths: 1. The authors propose a novel appr...  \n",
       "\n",
       "[98 rows x 8 columns]"
      ]
     },
     "execution_count": 15,
     "metadata": {},
     "output_type": "execute_result"
    }
   ],
   "source": [
    "# Generate reviews using fine-tuned model\n",
    "\n",
    "test_df = pd.read_csv(\"./data/test.csv\")\n",
    "test_df = clean_dataset(test_df)\n",
    "\n",
    "generate_reviews_for_df(\n",
    "    df=test_df, \n",
    "    model=model_ft, \n",
    "    tokenizer=tokenizer, \n",
    "    output_col=\"fine_tuned_review\", \n",
    "    output_file=\"./output/finetuned_predictions.csv\"\n",
    ")"
   ]
  },
  {
   "cell_type": "markdown",
   "id": "da7f757f",
   "metadata": {},
   "source": [
    "### Evaluation\n",
    "This cell evaluates the predictions from both the zero-shot and fine-tuned models. It loads the generated reviews, extracts the predicted rating and confidence values, and computes regression metrics (MAE, RMSE, R², Pearson correlation) for both rating and confidence. It also calculates BERTScore F1 to assess the textual similarity between the generated reviews and the original human reviews for both models."
   ]
  },
  {
   "cell_type": "code",
   "execution_count": 16,
   "id": "dbd4e4d9",
   "metadata": {},
   "outputs": [
    {
     "name": "stdout",
     "output_type": "stream",
     "text": [
      "Zero-shot usable samples: 72 / 98\n",
      "Fine-tuned usable samples: 69 / 98\n",
      "Zero-shot Rating Metrics: {'MAE': 1.2638888888888888, 'RMSE': 1.5767406607020418, 'R2': -0.017366592990211593, 'Pearson': 0.44904676086574136}\n",
      "Fine-tuned Rating Metrics: {'MAE': 1.2753623188405796, 'RMSE': 1.5416911474750377, 'R2': -0.05658263305322153, 'Pearson': 0.48752725733111246}\n",
      "Zero-shot Confidence Metrics: {'MAE': 0.8333333333333334, 'RMSE': 1.0801234497346435, 'R2': -1.0240963855421685, 'Pearson': 0.08548014654972028}\n",
      "Fine-tuned Confidence Metrics: {'MAE': 0.8115942028985508, 'RMSE': 1.103354568734741, 'R2': -0.9397590361445787, 'Pearson': 0.15533730608786467}\n"
     ]
    },
    {
     "name": "stderr",
     "output_type": "stream",
     "text": [
      "Some weights of RobertaModel were not initialized from the model checkpoint at roberta-large and are newly initialized: ['pooler.dense.bias', 'pooler.dense.weight']\n",
      "You should probably TRAIN this model on a down-stream task to be able to use it for predictions and inference.\n"
     ]
    },
    {
     "name": "stdout",
     "output_type": "stream",
     "text": [
      "Fine-tuned BERTScore F1: 0.8415400981903076\n"
     ]
    },
    {
     "name": "stderr",
     "output_type": "stream",
     "text": [
      "Some weights of RobertaModel were not initialized from the model checkpoint at roberta-large and are newly initialized: ['pooler.dense.bias', 'pooler.dense.weight']\n",
      "You should probably TRAIN this model on a down-stream task to be able to use it for predictions and inference.\n"
     ]
    },
    {
     "name": "stdout",
     "output_type": "stream",
     "text": [
      "Zero-shot BERTScore F1: 0.838068425655365\n"
     ]
    }
   ],
   "source": [
    "# ---------------------- EVALUATION ----------------------\n",
    "\n",
    "# Upload predictions\n",
    "zero = pd.read_csv(\"./output/zero_shot_predictions.csv\")\n",
    "ft = pd.read_csv(\"./output/finetuned_predictions.csv\")\n",
    "\n",
    "# Function to extract predicted numbers from text\n",
    "def extract_pred_numbers(text):\n",
    "    rating, confidence = None, None\n",
    "    if isinstance(text, str):\n",
    "        match_r = re.search(r\"Rating:\\s*(\\d+)\", text)\n",
    "        match_c = re.search(r\"Confidence:\\s*(\\d+)\", text)\n",
    "        if match_r:\n",
    "            rating = int(match_r.group(1))\n",
    "        if match_c:\n",
    "            confidence = int(match_c.group(1))\n",
    "    return rating, confidence\n",
    "\n",
    "# Add predicted numbers\n",
    "zero[[\"rating_pred\", \"confidence_pred\"]] = zero[\"zero_shot_review\"].apply(\n",
    "    lambda x: pd.Series(extract_pred_numbers(x))\n",
    ")\n",
    "ft[[\"rating_pred\", \"confidence_pred\"]] = ft[\"fine_tuned_review\"].apply(\n",
    "    lambda x: pd.Series(extract_pred_numbers(x))\n",
    ")\n",
    "\n",
    "# Function for regression metrics\n",
    "def regression_metrics(y_true, y_pred):\n",
    "    mae = mean_absolute_error(y_true, y_pred)\n",
    "    rmse = root_mean_squared_error(y_true, y_pred)\n",
    "    r2 = r2_score(y_true, y_pred)\n",
    "    pr, _ = pearsonr(y_true, y_pred)\n",
    "    return dict(MAE=mae, RMSE=rmse, R2=r2, Pearson=pr)\n",
    "\n",
    "# Drop rows with missing predictions\n",
    "zero_eval = zero.dropna(subset=[\"rating_pred\", \"confidence_pred\"])\n",
    "ft_eval = ft.dropna(subset=[\"rating_pred\", \"confidence_pred\"])\n",
    "\n",
    "print(\"Zero-shot usable samples:\", len(zero_eval), \"/\", len(zero))\n",
    "print(\"Fine-tuned usable samples:\", len(ft_eval), \"/\", len(ft))\n",
    "\n",
    "# Rating\n",
    "print(\"Zero-shot Rating Metrics:\", regression_metrics(zero_eval[\"rating_num\"], zero_eval[\"rating_pred\"]))\n",
    "print(\"Fine-tuned Rating Metrics:\", regression_metrics(ft_eval[\"rating_num\"], ft_eval[\"rating_pred\"]))\n",
    "\n",
    "# Confidence\n",
    "print(\"Zero-shot Confidence Metrics:\", regression_metrics(zero_eval[\"confidence_num\"], zero_eval[\"confidence_pred\"]))\n",
    "print(\"Fine-tuned Confidence Metrics:\", regression_metrics(ft_eval[\"confidence_num\"], ft_eval[\"confidence_pred\"]))\n",
    "\n",
    "# BERTScore on fine-tuned reviews\n",
    "P, R, F1 = bertscore(\n",
    "    cands=ft[\"fine_tuned_review\"].fillna(\"\").tolist(),\n",
    "    refs=ft[\"review\"].fillna(\"\").tolist(),\n",
    "    lang=\"en\"\n",
    ")\n",
    "print(\"Fine-tuned BERTScore F1:\", F1.mean().item())\n",
    "\n",
    "# BERTScore on zero-shot reviews\n",
    "P, R, F1 = bertscore(\n",
    "    cands=zero[\"zero_shot_review\"].fillna(\"\").tolist(),\n",
    "    refs=zero[\"review\"].fillna(\"\").tolist(),\n",
    "    lang=\"en\"\n",
    ")\n",
    "print(\"Zero-shot BERTScore F1:\", F1.mean().item())\n"
   ]
  },
  {
   "cell_type": "markdown",
   "id": "79ae43fd",
   "metadata": {},
   "source": [
    "### Bar plot for MAE and RMSE across zero-shot and fine-tuned models for both rating and confidence"
   ]
  },
  {
   "cell_type": "code",
   "execution_count": 17,
   "id": "90ec5164",
   "metadata": {},
   "outputs": [
    {
     "data": {
      "image/png": "[encoded data removed]",
      "text/plain": [
       "<Figure size 800x600 with 1 Axes>"
      ]
     },
     "metadata": {},
     "output_type": "display_data"
    }
   ],
   "source": [
    "# Data for bar plots\n",
    "metrics = ['MAE', 'RMSE']\n",
    "rating_zero = [1.26, 1.58]  # Zero-shot Rating\n",
    "rating_ft = [1.27, 1.54]    # Fine-tuned Rating\n",
    "confidence_zero = [0.83, 1.08]  # Zero-shot Confidence\n",
    "confidence_ft = [0.81, 1.10]    # Fine-tuned Confidence\n",
    "\n",
    "bar_width = 0.35\n",
    "index = np.arange(len(metrics))\n",
    "\n",
    "# Plot\n",
    "fig, ax = plt.subplots(figsize=(8, 6))\n",
    "\n",
    "bar1 = ax.bar(index, rating_zero, bar_width, label='Zero-shot Rating', color='b')\n",
    "bar2 = ax.bar(index + bar_width, rating_ft, bar_width, label='Fine-tuned Rating', color='g')\n",
    "bar3 = ax.bar(index + 2*bar_width, confidence_zero, bar_width, label='Zero-shot Confidence', color='r')\n",
    "bar4 = ax.bar(index + 3*bar_width, confidence_ft, bar_width, label='Fine-tuned Confidence', color='y')\n",
    "\n",
    "ax.set_xlabel('Metrics')\n",
    "ax.set_ylabel('Scores')\n",
    "ax.set_title('MAE and RMSE for Zero-shot and Fine-tuned Models')\n",
    "ax.set_xticks(index + 1.5 * bar_width)\n",
    "ax.set_xticklabels(metrics)\n",
    "ax.legend()\n",
    "\n",
    "plt.tight_layout()\n",
    "plt.show()\n"
   ]
  },
  {
   "cell_type": "markdown",
   "id": "2e301314",
   "metadata": {},
   "source": [
    "### Scatter plots of predicted vs. true ratings to visualize linear trends and variance"
   ]
  },
  {
   "cell_type": "code",
   "execution_count": 18,
   "id": "4a668baa",
   "metadata": {},
   "outputs": [
    {
     "data": {
      "image/png": "[encoded data removed]",
      "text/plain": [
       "<Figure size 800x600 with 1 Axes>"
      ]
     },
     "metadata": {},
     "output_type": "display_data"
    }
   ],
   "source": [
    "# Scatter plot for predicted vs true ratings\n",
    "plt.figure(figsize=(8, 6))\n",
    "plt.scatter(zero_eval[\"rating_num\"], zero_eval[\"rating_pred\"], color='b', label='Zero-shot')\n",
    "plt.scatter(ft_eval[\"rating_num\"], ft_eval[\"rating_pred\"], color='g', label='Fine-tuned')\n",
    "plt.plot([0, 10], [0, 10], 'k--', label='Ideal Prediction')\n",
    "plt.xlabel('True Ratings')\n",
    "plt.ylabel('Predicted Ratings')\n",
    "plt.title('Predicted vs True Ratings (Zero-shot vs Fine-tuned)')\n",
    "plt.legend()\n",
    "plt.tight_layout()\n",
    "plt.show()"
   ]
  },
  {
   "cell_type": "markdown",
   "id": "6a6b77a9",
   "metadata": {},
   "source": [
    "### BERTScore comparison bar chart between zero-shot and fine-tuned outputs"
   ]
  },
  {
   "cell_type": "code",
   "execution_count": null,
   "id": "0d3f91db",
   "metadata": {},
   "outputs": [
    {
     "data": {
      "image/png": "[encoded data removed]",
      "text/plain": [
       "<Figure size 600x500 with 1 Axes>"
      ]
     },
     "metadata": {},
     "output_type": "display_data"
    }
   ],
   "source": [
    "# BERTScore Comparison Bar Chart\n",
    "bert_scores = [0.8415, 0.8380]\n",
    "labels = ['Zero-shot', 'Fine-tuned']\n",
    "\n",
    "plt.figure(figsize=(6, 5))\n",
    "plt.bar(labels, bert_scores, color=['b', 'g'])\n",
    "plt.xlabel('Model')\n",
    "plt.ylabel('BERTScore F1')\n",
    "plt.title('BERTScore Comparison (Zero-shot vs Fine-tuned)')\n",
    "plt.tight_layout()\n",
    "plt.show()"
   ]
  }
 ],
 "metadata": {
  "kernelspec": {
   "display_name": "base",
   "language": "python",
   "name": "python3"
  },
  "language_info": {
   "codemirror_mode": {
    "name": "ipython",
    "version": 3
   },
   "file_extension": ".py",
   "mimetype": "text/x-python",
   "name": "python",
   "nbconvert_exporter": "python",
   "pygments_lexer": "ipython3",
   "version": "3.12.9"
  }
 },
 "nbformat": 4,
 "nbformat_minor": 5
}
